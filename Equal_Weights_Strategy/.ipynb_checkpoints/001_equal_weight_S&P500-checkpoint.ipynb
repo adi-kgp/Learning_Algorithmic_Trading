{
 "cells": [
  {
   "cell_type": "markdown",
   "id": "525619ae-82fb-4991-9fc1-15510255bbda",
   "metadata": {},
   "source": [
    "## Equal-Weight S&P 500 Index Fund\n",
    "\n",
    "### Introduction and Library Imports\n",
    "\n",
    "The S&P 500 is the worlds' most popular stock market index. The largest fund that is benchmarked to this index is the SPDR® S&P 500® ETF Trust. It has more than US$250 billion of assets under management. \n",
    "\n",
    "The goal os this project is to create a Python script that will accept the value of your portfolio and tell you how many shares of each S&P 500 constituent you should purchase to get an equal-weight version of the index fund. \n",
    "\n",
    "### Library Imports\n",
    "The first thing we need to do is import the open source software libraries that we will be using in this tutorial. "
   ]
  },
  {
   "cell_type": "code",
   "execution_count": 1,
   "id": "46c98e6c-43cd-4a51-887e-e2329544c1ec",
   "metadata": {},
   "outputs": [],
   "source": [
    "import numpy as np\n",
    "import pandas as pd\n",
    "import requests\n",
    "import xlsxwriter\n",
    "import math"
   ]
  },
  {
   "cell_type": "markdown",
   "id": "520b9e93-5f81-4757-bc56-bb54d478473f",
   "metadata": {},
   "source": [
    "### Importing Our List of Stocks\n",
    "\n",
    "The next thing we need to do is import the constituents of the S&P 500.\n",
    "\n",
    "These constituents change over time, so in an ideal world you would connect directly to the index provider (Standard and Poor's) and pull their real-time constituents on a regular basis. \n",
    "\n",
    "Paying for access to the index provider's API is outside the scope of this course.\n",
    "\n",
    "There is a static version of the S&P 500 constituents available in this project's folder.\n",
    "Now its time to import these stocks to this notebook."
   ]
  },
  {
   "cell_type": "code",
   "execution_count": 2,
   "id": "aeeb8721-241d-495e-a2a8-c27e71f61cc9",
   "metadata": {},
   "outputs": [
    {
     "data": {
      "text/html": [
       "<div>\n",
       "<style scoped>\n",
       "    .dataframe tbody tr th:only-of-type {\n",
       "        vertical-align: middle;\n",
       "    }\n",
       "\n",
       "    .dataframe tbody tr th {\n",
       "        vertical-align: top;\n",
       "    }\n",
       "\n",
       "    .dataframe thead th {\n",
       "        text-align: right;\n",
       "    }\n",
       "</style>\n",
       "<table border=\"1\" class=\"dataframe\">\n",
       "  <thead>\n",
       "    <tr style=\"text-align: right;\">\n",
       "      <th></th>\n",
       "      <th>Ticker</th>\n",
       "    </tr>\n",
       "  </thead>\n",
       "  <tbody>\n",
       "    <tr>\n",
       "      <th>0</th>\n",
       "      <td>A</td>\n",
       "    </tr>\n",
       "    <tr>\n",
       "      <th>1</th>\n",
       "      <td>AAL</td>\n",
       "    </tr>\n",
       "    <tr>\n",
       "      <th>2</th>\n",
       "      <td>AAP</td>\n",
       "    </tr>\n",
       "    <tr>\n",
       "      <th>3</th>\n",
       "      <td>AAPL</td>\n",
       "    </tr>\n",
       "    <tr>\n",
       "      <th>4</th>\n",
       "      <td>ABBV</td>\n",
       "    </tr>\n",
       "    <tr>\n",
       "      <th>...</th>\n",
       "      <td>...</td>\n",
       "    </tr>\n",
       "    <tr>\n",
       "      <th>500</th>\n",
       "      <td>YUM</td>\n",
       "    </tr>\n",
       "    <tr>\n",
       "      <th>501</th>\n",
       "      <td>ZBH</td>\n",
       "    </tr>\n",
       "    <tr>\n",
       "      <th>502</th>\n",
       "      <td>ZBRA</td>\n",
       "    </tr>\n",
       "    <tr>\n",
       "      <th>503</th>\n",
       "      <td>ZION</td>\n",
       "    </tr>\n",
       "    <tr>\n",
       "      <th>504</th>\n",
       "      <td>ZTS</td>\n",
       "    </tr>\n",
       "  </tbody>\n",
       "</table>\n",
       "<p>505 rows × 1 columns</p>\n",
       "</div>"
      ],
      "text/plain": [
       "    Ticker\n",
       "0        A\n",
       "1      AAL\n",
       "2      AAP\n",
       "3     AAPL\n",
       "4     ABBV\n",
       "..     ...\n",
       "500    YUM\n",
       "501    ZBH\n",
       "502   ZBRA\n",
       "503   ZION\n",
       "504    ZTS\n",
       "\n",
       "[505 rows x 1 columns]"
      ]
     },
     "execution_count": 2,
     "metadata": {},
     "output_type": "execute_result"
    }
   ],
   "source": [
    "stocks = pd.read_csv('sp_500_stocks.csv')\n",
    "stocks"
   ]
  },
  {
   "cell_type": "markdown",
   "id": "f1f1bda1-4744-48c3-b6c7-c1808a69a3eb",
   "metadata": {},
   "source": [
    "### Acquiring an API Token \n",
    "\n",
    "Now it's time to import our IEX Cloud API token. This is the data provider that we will be using throughout this course. (Create an account with IEX Cloud and you will get free access to API via token for 7 day period).\n",
    "\n",
    "API tokens (and other sensitive information) should be stored in a **api_token.py** file that does not get pushed to your Git repository. We will be using a sandbox API token in this course, which means that the data we will use is randomly-generated and (more importantly) has no cost associated with it. "
   ]
  },
  {
   "cell_type": "code",
   "execution_count": 3,
   "id": "28997562-968b-4cd8-86ba-5c5e97757791",
   "metadata": {},
   "outputs": [],
   "source": [
    "from api_token import IEX_CLOUD_API_TOKEN "
   ]
  },
  {
   "cell_type": "markdown",
   "id": "7e69ba17-6c97-4f9f-9a13-b2136939d00e",
   "metadata": {},
   "source": [
    "### Making Our First API Call\n",
    "\n",
    "Now it's time to structure our API calls to IEX Cloud. \n",
    "\n",
    "We need the following informaition from the API:\n",
    "\n",
    "    * Market Capitalization for each stock\n",
    "    * Price of each stock"
   ]
  },
  {
   "cell_type": "code",
   "execution_count": 4,
   "id": "4543c64c-59b3-45e3-a243-6f0835c54a5f",
   "metadata": {},
   "outputs": [],
   "source": [
    "symbol = \"AAPL\"\n",
    "api_url = f'https://api.iex.cloud/v1/data/CORE/QUOTE/{symbol}?token={IEX_CLOUD_API_TOKEN}' # see more at https://iexcloud.io/docs/core/QUOTE\n",
    "#print(api_url)\n",
    "data = requests.get(api_url).json()[0]\n",
    "# print(data.status_code)"
   ]
  },
  {
   "cell_type": "code",
   "execution_count": 5,
   "id": "686e2325-985b-44e2-91a2-b5ba7dd9aeac",
   "metadata": {
    "tags": []
   },
   "outputs": [
    {
     "name": "stdout",
     "output_type": "stream",
     "text": [
      "{'avgTotalVolume': 56518763, 'calculationPrice': 'close', 'change': 0.62, 'changePercent': 0.00349, 'close': 178.18, 'closeSource': 'official', 'closeTime': 1694203200039, 'companyName': 'Apple Inc', 'currency': 'USD', 'delayedPrice': 178.26, 'delayedPriceTime': 1694203195202, 'extendedChange': 0.525, 'extendedChangePercent': 0.00295, 'extendedPrice': 178.705, 'extendedPriceTime': 1694217599001, 'high': 180.239, 'highSource': '15 minute delayed price', 'highTime': 1694203199970, 'iexAskPrice': 0, 'iexAskSize': 0, 'iexBidPrice': 0, 'iexBidSize': 0, 'iexClose': 178.2, 'iexCloseTime': 1694203199024, 'iexLastUpdated': 1694203481623, 'iexMarketPercent': 0.0173879584828929, 'iexOpen': 178.35, 'iexOpenTime': 1694179800150, 'iexRealtimePrice': 178.34, 'iexRealtimeSize': 100, 'iexVolume': 1140686, 'lastTradeTime': 1694203199958, 'latestPrice': 178.18, 'latestSource': 'Close', 'latestTime': 'September 8, 2023', 'latestUpdate': 1694203200039, 'latestVolume': 65602066, 'low': 177.79, 'lowSource': '15 minute delayed price', 'lowTime': 1694202752737, 'marketCap': 2785707457760, 'oddLotDelayedPrice': 178.275, 'oddLotDelayedPriceTime': 1694203195194, 'open': 178.35, 'openTime': 1694179801109, 'openSource': 'official', 'peRatio': 29.95, 'previousClose': 177.56, 'previousVolume': 112488803, 'primaryExchange': 'NASDAQ', 'symbol': 'AAPL', 'volume': 65602066, 'week52High': 197.7, 'week52Low': 123.48, 'ytdChange': 0.3825537412579836, 'isUSMarketOpen': False}\n"
     ]
    }
   ],
   "source": [
    "print(data)"
   ]
  },
  {
   "cell_type": "markdown",
   "id": "9847efb2-f23d-48cb-ad64-024043e16ab1",
   "metadata": {},
   "source": [
    "### Parsing Our API Call\n",
    "\n",
    "The API call that we executed in the last code block contains all the information required to build our equal-weight S&P 500 Strategy.\n",
    "\n",
    "With that said, the data isn't in a proper format yet. We need to parse it first."
   ]
  },
  {
   "cell_type": "code",
   "execution_count": 6,
   "id": "c7b8750a-7566-4037-9f52-003e77708723",
   "metadata": {
    "tags": []
   },
   "outputs": [
    {
     "name": "stdout",
     "output_type": "stream",
     "text": [
      "178.18\n",
      "2.78570745776\n"
     ]
    }
   ],
   "source": [
    "price = data['latestPrice']\n",
    "print(price)\n",
    "market_cap = data['marketCap']\n",
    "print(market_cap/1000000000000)"
   ]
  },
  {
   "cell_type": "markdown",
   "id": "a99f669f-25fc-44f6-95cd-8f5670ed23bd",
   "metadata": {},
   "source": [
    "### Adding Our Stocks data to a Pandas Dataframe\n",
    "\n",
    "The next thing we need to do is add our stock's price and market capitalization to pandas DataFrame. "
   ]
  },
  {
   "cell_type": "code",
   "execution_count": 7,
   "id": "51a9a11c-6534-4eb8-9dfc-1b8547646b6b",
   "metadata": {
    "tags": []
   },
   "outputs": [
    {
     "data": {
      "text/html": [
       "<div>\n",
       "<style scoped>\n",
       "    .dataframe tbody tr th:only-of-type {\n",
       "        vertical-align: middle;\n",
       "    }\n",
       "\n",
       "    .dataframe tbody tr th {\n",
       "        vertical-align: top;\n",
       "    }\n",
       "\n",
       "    .dataframe thead th {\n",
       "        text-align: right;\n",
       "    }\n",
       "</style>\n",
       "<table border=\"1\" class=\"dataframe\">\n",
       "  <thead>\n",
       "    <tr style=\"text-align: right;\">\n",
       "      <th></th>\n",
       "      <th>Ticker</th>\n",
       "      <th>Stock Price</th>\n",
       "      <th>Market Capitalization</th>\n",
       "      <th>Number of Shares to Buy</th>\n",
       "    </tr>\n",
       "  </thead>\n",
       "  <tbody>\n",
       "  </tbody>\n",
       "</table>\n",
       "</div>"
      ],
      "text/plain": [
       "Empty DataFrame\n",
       "Columns: [Ticker, Stock Price, Market Capitalization, Number of Shares to Buy]\n",
       "Index: []"
      ]
     },
     "execution_count": 7,
     "metadata": {},
     "output_type": "execute_result"
    }
   ],
   "source": [
    "my_columns = ['Ticker', 'Stock Price', 'Market Capitalization', 'Number of Shares to Buy']\n",
    "final_dataframe = pd.DataFrame(columns = my_columns)\n",
    "final_dataframe"
   ]
  },
  {
   "cell_type": "code",
   "execution_count": 8,
   "id": "8179ba70-c92f-4c8f-bd56-b7ad318b8494",
   "metadata": {},
   "outputs": [
    {
     "data": {
      "text/html": [
       "<div>\n",
       "<style scoped>\n",
       "    .dataframe tbody tr th:only-of-type {\n",
       "        vertical-align: middle;\n",
       "    }\n",
       "\n",
       "    .dataframe tbody tr th {\n",
       "        vertical-align: top;\n",
       "    }\n",
       "\n",
       "    .dataframe thead th {\n",
       "        text-align: right;\n",
       "    }\n",
       "</style>\n",
       "<table border=\"1\" class=\"dataframe\">\n",
       "  <thead>\n",
       "    <tr style=\"text-align: right;\">\n",
       "      <th></th>\n",
       "      <th>Ticker</th>\n",
       "      <th>Stock Price</th>\n",
       "      <th>Market Capitalization</th>\n",
       "      <th>Number of Shares to Buy</th>\n",
       "    </tr>\n",
       "  </thead>\n",
       "  <tbody>\n",
       "    <tr>\n",
       "      <th>0</th>\n",
       "      <td>AAPL</td>\n",
       "      <td>178.18</td>\n",
       "      <td>2785707457760</td>\n",
       "      <td>N/A</td>\n",
       "    </tr>\n",
       "  </tbody>\n",
       "</table>\n",
       "</div>"
      ],
      "text/plain": [
       "  Ticker Stock Price Market Capitalization Number of Shares to Buy\n",
       "0   AAPL      178.18         2785707457760                     N/A"
      ]
     },
     "execution_count": 8,
     "metadata": {},
     "output_type": "execute_result"
    }
   ],
   "source": [
    "# operation on single ticker, that we need to perform for all the S&P 500 tickers \n",
    "pd.concat([final_dataframe, \n",
    "    pd.Series(\n",
    "        [\n",
    "            symbol, \n",
    "            price,\n",
    "            market_cap,\n",
    "            'N/A'\n",
    "        ],\n",
    "        index = my_columns\n",
    "    ).to_frame().transpose()],\n",
    "    ignore_index = True\n",
    ")"
   ]
  },
  {
   "cell_type": "markdown",
   "id": "e40b42a5-0fbe-4d16-bfe3-fc63cd6aa1eb",
   "metadata": {
    "tags": []
   },
   "source": [
    "### Looping through the tickers in our list of stocks\n",
    "\n",
    "Using the same logic we outlined above, we can pull data for all S&P 500 stocks and store their data in the DataFrame usinf a **for** loop.\n",
    "\n",
    "This process usually is very slow, hence **not preferable**."
   ]
  },
  {
   "cell_type": "code",
   "execution_count": 9,
   "id": "d3abe212-adb1-4bfe-8e6b-6c167eb28b16",
   "metadata": {
    "scrolled": true,
    "tags": []
   },
   "outputs": [],
   "source": [
    "final_dataframe = pd.DataFrame(columns= my_columns)\n",
    "\n",
    "for stock in stocks['Ticker'][:10]:\n",
    "    api_url = f'https://api.iex.cloud/v1/data/CORE/QUOTE/{stock}?token={IEX_CLOUD_API_TOKEN}'\n",
    "    data = requests.get(api_url).json()[0]\n",
    "    final_dataframe = pd.concat([final_dataframe, \n",
    "        pd.Series(\n",
    "            [\n",
    "                stock, \n",
    "                data['latestPrice'],\n",
    "                data['marketCap'],\n",
    "                'N/A'\n",
    "            ],\n",
    "            index = my_columns\n",
    "        ).to_frame().transpose()],\n",
    "        ignore_index = True\n",
    "    )"
   ]
  },
  {
   "cell_type": "code",
   "execution_count": 10,
   "id": "ff2435aa-ec28-4d58-a54b-8b5814778a4e",
   "metadata": {
    "tags": []
   },
   "outputs": [
    {
     "data": {
      "text/html": [
       "<div>\n",
       "<style scoped>\n",
       "    .dataframe tbody tr th:only-of-type {\n",
       "        vertical-align: middle;\n",
       "    }\n",
       "\n",
       "    .dataframe tbody tr th {\n",
       "        vertical-align: top;\n",
       "    }\n",
       "\n",
       "    .dataframe thead th {\n",
       "        text-align: right;\n",
       "    }\n",
       "</style>\n",
       "<table border=\"1\" class=\"dataframe\">\n",
       "  <thead>\n",
       "    <tr style=\"text-align: right;\">\n",
       "      <th></th>\n",
       "      <th>Ticker</th>\n",
       "      <th>Stock Price</th>\n",
       "      <th>Market Capitalization</th>\n",
       "      <th>Number of Shares to Buy</th>\n",
       "    </tr>\n",
       "  </thead>\n",
       "  <tbody>\n",
       "    <tr>\n",
       "      <th>0</th>\n",
       "      <td>A</td>\n",
       "      <td>113.99</td>\n",
       "      <td>33352023249</td>\n",
       "      <td>N/A</td>\n",
       "    </tr>\n",
       "    <tr>\n",
       "      <th>1</th>\n",
       "      <td>AAL</td>\n",
       "      <td>13.98</td>\n",
       "      <td>9134006855</td>\n",
       "      <td>N/A</td>\n",
       "    </tr>\n",
       "    <tr>\n",
       "      <th>2</th>\n",
       "      <td>AAP</td>\n",
       "      <td>64.61</td>\n",
       "      <td>3842373563</td>\n",
       "      <td>N/A</td>\n",
       "    </tr>\n",
       "    <tr>\n",
       "      <th>3</th>\n",
       "      <td>AAPL</td>\n",
       "      <td>178.18</td>\n",
       "      <td>2785707457760</td>\n",
       "      <td>N/A</td>\n",
       "    </tr>\n",
       "    <tr>\n",
       "      <th>4</th>\n",
       "      <td>ABBV</td>\n",
       "      <td>149.02</td>\n",
       "      <td>263027256254</td>\n",
       "      <td>N/A</td>\n",
       "    </tr>\n",
       "    <tr>\n",
       "      <th>5</th>\n",
       "      <td>ABC</td>\n",
       "      <td>179.98</td>\n",
       "      <td>36387430583</td>\n",
       "      <td>N/A</td>\n",
       "    </tr>\n",
       "    <tr>\n",
       "      <th>6</th>\n",
       "      <td>ABMD</td>\n",
       "      <td>381.02</td>\n",
       "      <td>17180642928</td>\n",
       "      <td>N/A</td>\n",
       "    </tr>\n",
       "    <tr>\n",
       "      <th>7</th>\n",
       "      <td>ABT</td>\n",
       "      <td>100.73</td>\n",
       "      <td>174802609325</td>\n",
       "      <td>N/A</td>\n",
       "    </tr>\n",
       "    <tr>\n",
       "      <th>8</th>\n",
       "      <td>ACN</td>\n",
       "      <td>325.47</td>\n",
       "      <td>216213539414</td>\n",
       "      <td>N/A</td>\n",
       "    </tr>\n",
       "    <tr>\n",
       "      <th>9</th>\n",
       "      <td>ADBE</td>\n",
       "      <td>560.36</td>\n",
       "      <td>255412088000</td>\n",
       "      <td>N/A</td>\n",
       "    </tr>\n",
       "  </tbody>\n",
       "</table>\n",
       "</div>"
      ],
      "text/plain": [
       "  Ticker Stock Price Market Capitalization Number of Shares to Buy\n",
       "0      A      113.99           33352023249                     N/A\n",
       "1    AAL       13.98            9134006855                     N/A\n",
       "2    AAP       64.61            3842373563                     N/A\n",
       "3   AAPL      178.18         2785707457760                     N/A\n",
       "4   ABBV      149.02          263027256254                     N/A\n",
       "5    ABC      179.98           36387430583                     N/A\n",
       "6   ABMD      381.02           17180642928                     N/A\n",
       "7    ABT      100.73          174802609325                     N/A\n",
       "8    ACN      325.47          216213539414                     N/A\n",
       "9   ADBE      560.36          255412088000                     N/A"
      ]
     },
     "execution_count": 10,
     "metadata": {},
     "output_type": "execute_result"
    }
   ],
   "source": [
    "final_dataframe"
   ]
  },
  {
   "cell_type": "markdown",
   "id": "1124bb63-f1e0-4959-9bbd-195c70c247b7",
   "metadata": {},
   "source": [
    "### Using Batch API Calls To Improve Performance \n",
    "\n",
    "Batch API Calls are one of the easiest ways to improve the performance of your code. \n",
    "\n",
    "This is because HTTP requests are typically one of the slowest components of a script. \n",
    "\n",
    "Also, API providers will often give you discounted rates for using batch API calls since they are easier for the API provider to respond to. \n",
    "\n",
    "IEX Cloud limits their batch API calls to 100 tickers per request. Still, this reduces the number of API calls we will make in this section from 500 to 5 - huge improvement! In this section we will split our list of stocks into groups of 100 and then make a batch API call for each group. "
   ]
  },
  {
   "cell_type": "code",
   "execution_count": 11,
   "id": "755d3a03-7eb0-485b-902e-3fc8a1ab16a4",
   "metadata": {
    "tags": []
   },
   "outputs": [],
   "source": [
    "def chunks(lst, n):\n",
    "    \"\"\"Yield successive n-sized chunks from lst.\"\"\"\n",
    "    for i in range(0, len(lst), n):\n",
    "        yield lst[i:i+n]  # using yield keyword for the first time! Would look more into it later :)"
   ]
  },
  {
   "cell_type": "code",
   "execution_count": 12,
   "id": "80d0cccd-2592-461a-a3a8-ec933f821c57",
   "metadata": {
    "tags": []
   },
   "outputs": [],
   "source": [
    "symbol_groups = list(chunks(stocks['Ticker'], 100))"
   ]
  },
  {
   "cell_type": "code",
   "execution_count": 13,
   "id": "5c0c6a03-b8d1-4eee-9313-be5efcbb0e8f",
   "metadata": {
    "scrolled": true,
    "tags": []
   },
   "outputs": [
    {
     "data": {
      "text/plain": [
       "[0         A\n",
       " 1       AAL\n",
       " 2       AAP\n",
       " 3      AAPL\n",
       " 4      ABBV\n",
       "       ...  \n",
       " 95     CINF\n",
       " 96       CL\n",
       " 97      CLX\n",
       " 98      CMA\n",
       " 99    CMCSA\n",
       " Name: Ticker, Length: 100, dtype: object,\n",
       " 100     CME\n",
       " 101     CMG\n",
       " 102     CMI\n",
       " 103     CMS\n",
       " 104     CNC\n",
       "        ... \n",
       " 195    FTNT\n",
       " 196     FTV\n",
       " 197      GD\n",
       " 198      GE\n",
       " 199    GILD\n",
       " Name: Ticker, Length: 100, dtype: object,\n",
       " 200     GIS\n",
       " 201      GL\n",
       " 202     GLW\n",
       " 203      GM\n",
       " 204    GOOG\n",
       "        ... \n",
       " 295     MAA\n",
       " 296     MAR\n",
       " 297     MAS\n",
       " 298     MCD\n",
       " 299    MCHP\n",
       " Name: Ticker, Length: 100, dtype: object,\n",
       " 300     MCK\n",
       " 301     MCO\n",
       " 302    MDLZ\n",
       " 303     MDT\n",
       " 304     MET\n",
       "        ... \n",
       " 395     RHI\n",
       " 396     RJF\n",
       " 397      RL\n",
       " 398     RMD\n",
       " 399     ROK\n",
       " Name: Ticker, Length: 100, dtype: object,\n",
       " 400     ROL\n",
       " 401     ROP\n",
       " 402    ROST\n",
       " 403     RSG\n",
       " 404     RTX\n",
       "        ... \n",
       " 495    XLNX\n",
       " 496     XOM\n",
       " 497    XRAY\n",
       " 498     XRX\n",
       " 499     XYL\n",
       " Name: Ticker, Length: 100, dtype: object,\n",
       " 500     YUM\n",
       " 501     ZBH\n",
       " 502    ZBRA\n",
       " 503    ZION\n",
       " 504     ZTS\n",
       " Name: Ticker, dtype: object]"
      ]
     },
     "execution_count": 13,
     "metadata": {},
     "output_type": "execute_result"
    }
   ],
   "source": [
    "symbol_groups"
   ]
  },
  {
   "cell_type": "code",
   "execution_count": 14,
   "id": "108ee8c6-b572-43b3-bed1-dfa58b9ca959",
   "metadata": {
    "tags": []
   },
   "outputs": [
    {
     "name": "stdout",
     "output_type": "stream",
     "text": [
      "A,AAL,AAP,AAPL,ABBV,ABC,ABMD,ABT,ACN,ADBE,ADI,ADM,ADP,ADSK,AEE,AEP,AES,AFL,AIG,AIV,AIZ,AJG,AKAM,ALB,ALGN,ALK,ALL,ALLE,ALXN,AMAT,AMCR,AMD,AME,AMGN,AMP,AMT,AMZN,ANET,ANSS,ANTM,AON,AOS,APA,APD,APH,APTV,ARE,ATO,ATVI,AVB,AVGO,AVY,AWK,AXP,AZO,BA,BAC,BAX,BBY,BDX,BEN,BF.B,BIIB,BIO,BK,BKNG,BKR,BLK,BLL,BMY,BR,BRK.B,BSX,BWA,BXP,C,CAG,CAH,CARR,CAT,CB,CBOE,CBRE,CCI,CCL,CDNS,CDW,CE,CERN,CF,CFG,CHD,CHRW,CHTR,CI,CINF,CL,CLX,CMA,CMCSA\n"
     ]
    }
   ],
   "source": [
    "# Creating strings (batches) of 100 tickers per string\n",
    "symbol_strings = []\n",
    "for i in range(len(symbol_groups)):\n",
    "    symbol_strings.append(','.join(symbol_groups[i]))\n",
    "print(symbol_strings[0])"
   ]
  },
  {
   "cell_type": "code",
   "execution_count": 15,
   "id": "020cf7df-4122-4bbb-87e8-1a977ad1d8c4",
   "metadata": {
    "tags": []
   },
   "outputs": [
    {
     "data": {
      "text/html": [
       "<div>\n",
       "<style scoped>\n",
       "    .dataframe tbody tr th:only-of-type {\n",
       "        vertical-align: middle;\n",
       "    }\n",
       "\n",
       "    .dataframe tbody tr th {\n",
       "        vertical-align: top;\n",
       "    }\n",
       "\n",
       "    .dataframe thead th {\n",
       "        text-align: right;\n",
       "    }\n",
       "</style>\n",
       "<table border=\"1\" class=\"dataframe\">\n",
       "  <thead>\n",
       "    <tr style=\"text-align: right;\">\n",
       "      <th></th>\n",
       "      <th>Ticker</th>\n",
       "      <th>Stock Price</th>\n",
       "      <th>Market Capitalization</th>\n",
       "      <th>Number of Shares to Buy</th>\n",
       "    </tr>\n",
       "  </thead>\n",
       "  <tbody>\n",
       "  </tbody>\n",
       "</table>\n",
       "</div>"
      ],
      "text/plain": [
       "Empty DataFrame\n",
       "Columns: [Ticker, Stock Price, Market Capitalization, Number of Shares to Buy]\n",
       "Index: []"
      ]
     },
     "execution_count": 15,
     "metadata": {},
     "output_type": "execute_result"
    }
   ],
   "source": [
    "final_dataframe = pd.DataFrame(columns=my_columns)\n",
    "final_dataframe"
   ]
  },
  {
   "cell_type": "code",
   "execution_count": 16,
   "id": "5073c1cf-c187-4911-ae6c-f9c9b880b202",
   "metadata": {
    "tags": []
   },
   "outputs": [],
   "source": [
    "# batch API call (batch size is 100) # see how to call api for batch quering using this: https://iexcloud.io/documentation/search-data/batch-data-queries.html\n",
    "for symbol_string in symbol_strings:\n",
    "    batch_api_call_url = f'https://api.iex.cloud/v1/data/core/QUOTE/{symbol_string}?token={IEX_CLOUD_API_TOKEN}'\n",
    "    data = requests.get(batch_api_call_url).json()\n",
    "    for i in range(len(symbol_string.split(','))):\n",
    "        final_dataframe = pd.concat([final_dataframe,\n",
    "                                    pd.Series([\n",
    "                                        data[i]['symbol'], \n",
    "                                        data[i]['latestPrice'],\n",
    "                                        data[i]['marketCap'],\n",
    "                                        'N/A'\n",
    "                                    ],index = my_columns).to_frame().transpose()],\n",
    "                                    ignore_index=True)"
   ]
  },
  {
   "cell_type": "code",
   "execution_count": 17,
   "id": "3ead4c79-73fa-4e5d-bede-5bb8a72c6ba4",
   "metadata": {
    "scrolled": true,
    "tags": []
   },
   "outputs": [
    {
     "data": {
      "text/html": [
       "<div>\n",
       "<style scoped>\n",
       "    .dataframe tbody tr th:only-of-type {\n",
       "        vertical-align: middle;\n",
       "    }\n",
       "\n",
       "    .dataframe tbody tr th {\n",
       "        vertical-align: top;\n",
       "    }\n",
       "\n",
       "    .dataframe thead th {\n",
       "        text-align: right;\n",
       "    }\n",
       "</style>\n",
       "<table border=\"1\" class=\"dataframe\">\n",
       "  <thead>\n",
       "    <tr style=\"text-align: right;\">\n",
       "      <th></th>\n",
       "      <th>Ticker</th>\n",
       "      <th>Stock Price</th>\n",
       "      <th>Market Capitalization</th>\n",
       "      <th>Number of Shares to Buy</th>\n",
       "    </tr>\n",
       "  </thead>\n",
       "  <tbody>\n",
       "    <tr>\n",
       "      <th>0</th>\n",
       "      <td>A</td>\n",
       "      <td>113.99</td>\n",
       "      <td>33352023249</td>\n",
       "      <td>N/A</td>\n",
       "    </tr>\n",
       "    <tr>\n",
       "      <th>1</th>\n",
       "      <td>AAL</td>\n",
       "      <td>13.98</td>\n",
       "      <td>9134006855</td>\n",
       "      <td>N/A</td>\n",
       "    </tr>\n",
       "    <tr>\n",
       "      <th>2</th>\n",
       "      <td>AAP</td>\n",
       "      <td>64.61</td>\n",
       "      <td>3842373563</td>\n",
       "      <td>N/A</td>\n",
       "    </tr>\n",
       "    <tr>\n",
       "      <th>3</th>\n",
       "      <td>AAPL</td>\n",
       "      <td>178.18</td>\n",
       "      <td>2785707457760</td>\n",
       "      <td>N/A</td>\n",
       "    </tr>\n",
       "    <tr>\n",
       "      <th>4</th>\n",
       "      <td>ABBV</td>\n",
       "      <td>149.02</td>\n",
       "      <td>263027256254</td>\n",
       "      <td>N/A</td>\n",
       "    </tr>\n",
       "    <tr>\n",
       "      <th>...</th>\n",
       "      <td>...</td>\n",
       "      <td>...</td>\n",
       "      <td>...</td>\n",
       "      <td>...</td>\n",
       "    </tr>\n",
       "    <tr>\n",
       "      <th>500</th>\n",
       "      <td>YUM</td>\n",
       "      <td>126.53</td>\n",
       "      <td>35455133385</td>\n",
       "      <td>N/A</td>\n",
       "    </tr>\n",
       "    <tr>\n",
       "      <th>501</th>\n",
       "      <td>ZBH</td>\n",
       "      <td>120.65</td>\n",
       "      <td>25211522767</td>\n",
       "      <td>N/A</td>\n",
       "    </tr>\n",
       "    <tr>\n",
       "      <th>502</th>\n",
       "      <td>ZBRA</td>\n",
       "      <td>256.37</td>\n",
       "      <td>13161616379</td>\n",
       "      <td>N/A</td>\n",
       "    </tr>\n",
       "    <tr>\n",
       "      <th>503</th>\n",
       "      <td>ZION</td>\n",
       "      <td>34.92</td>\n",
       "      <td>5173228044</td>\n",
       "      <td>N/A</td>\n",
       "    </tr>\n",
       "    <tr>\n",
       "      <th>504</th>\n",
       "      <td>ZTS</td>\n",
       "      <td>185.78</td>\n",
       "      <td>85517674611</td>\n",
       "      <td>N/A</td>\n",
       "    </tr>\n",
       "  </tbody>\n",
       "</table>\n",
       "<p>505 rows × 4 columns</p>\n",
       "</div>"
      ],
      "text/plain": [
       "    Ticker Stock Price Market Capitalization Number of Shares to Buy\n",
       "0        A      113.99           33352023249                     N/A\n",
       "1      AAL       13.98            9134006855                     N/A\n",
       "2      AAP       64.61            3842373563                     N/A\n",
       "3     AAPL      178.18         2785707457760                     N/A\n",
       "4     ABBV      149.02          263027256254                     N/A\n",
       "..     ...         ...                   ...                     ...\n",
       "500    YUM      126.53           35455133385                     N/A\n",
       "501    ZBH      120.65           25211522767                     N/A\n",
       "502   ZBRA      256.37           13161616379                     N/A\n",
       "503   ZION       34.92            5173228044                     N/A\n",
       "504    ZTS      185.78           85517674611                     N/A\n",
       "\n",
       "[505 rows x 4 columns]"
      ]
     },
     "execution_count": 17,
     "metadata": {},
     "output_type": "execute_result"
    }
   ],
   "source": [
    "final_dataframe"
   ]
  },
  {
   "cell_type": "markdown",
   "id": "457c6339-be32-40bb-9c66-ab8fda9e707b",
   "metadata": {
    "tags": []
   },
   "source": [
    "### Calculating the Number of Shares to Buy\n",
    "\n",
    "As you can see in the dataframe above, we still have not calculated the number of shares of each stock to buy.\n",
    "Let's do it next. "
   ]
  },
  {
   "cell_type": "code",
   "execution_count": 18,
   "id": "b55f8540-4408-4977-9c94-ca3727822239",
   "metadata": {
    "tags": []
   },
   "outputs": [
    {
     "name": "stdin",
     "output_type": "stream",
     "text": [
      "Enter a numerical value of your portfolio: 10000000\n"
     ]
    }
   ],
   "source": [
    "portfolio_size = input('Enter a numerical value of your portfolio:') # the input function converts the entered value into string! \n",
    "try:\n",
    "    val = float(portfolio_size)\n",
    "except ValueError:\n",
    "    print('That is not a number! \\nPlease try again:')\n",
    "    portfolio_size = input('Enter the value of your portfolio:')\n",
    "    val = float(portfolio_size)"
   ]
  },
  {
   "cell_type": "code",
   "execution_count": 28,
   "id": "96f47a38-4182-4b68-8415-a5a5cfa0178b",
   "metadata": {
    "tags": []
   },
   "outputs": [],
   "source": [
    "position_size = val/len(final_dataframe.index) # position_size is the equal amount of money I have for each stock \n",
    "for i in range(0, len(final_dataframe.index)):\n",
    "    final_dataframe.loc[i, 'Number of Shares to Buy'] = math.floor(position_size/final_dataframe.loc[i, 'Stock Price'])"
   ]
  },
  {
   "cell_type": "code",
   "execution_count": 29,
   "id": "fc627991-f8d1-462c-a039-d32d659d4a95",
   "metadata": {
    "tags": []
   },
   "outputs": [
    {
     "data": {
      "text/html": [
       "<div>\n",
       "<style scoped>\n",
       "    .dataframe tbody tr th:only-of-type {\n",
       "        vertical-align: middle;\n",
       "    }\n",
       "\n",
       "    .dataframe tbody tr th {\n",
       "        vertical-align: top;\n",
       "    }\n",
       "\n",
       "    .dataframe thead th {\n",
       "        text-align: right;\n",
       "    }\n",
       "</style>\n",
       "<table border=\"1\" class=\"dataframe\">\n",
       "  <thead>\n",
       "    <tr style=\"text-align: right;\">\n",
       "      <th></th>\n",
       "      <th>Ticker</th>\n",
       "      <th>Stock Price</th>\n",
       "      <th>Market Capitalization</th>\n",
       "      <th>Number of Shares to Buy</th>\n",
       "    </tr>\n",
       "  </thead>\n",
       "  <tbody>\n",
       "    <tr>\n",
       "      <th>0</th>\n",
       "      <td>A</td>\n",
       "      <td>113.99</td>\n",
       "      <td>33352023249</td>\n",
       "      <td>173</td>\n",
       "    </tr>\n",
       "    <tr>\n",
       "      <th>1</th>\n",
       "      <td>AAL</td>\n",
       "      <td>13.98</td>\n",
       "      <td>9134006855</td>\n",
       "      <td>1416</td>\n",
       "    </tr>\n",
       "    <tr>\n",
       "      <th>2</th>\n",
       "      <td>AAP</td>\n",
       "      <td>64.61</td>\n",
       "      <td>3842373563</td>\n",
       "      <td>306</td>\n",
       "    </tr>\n",
       "    <tr>\n",
       "      <th>3</th>\n",
       "      <td>AAPL</td>\n",
       "      <td>178.18</td>\n",
       "      <td>2785707457760</td>\n",
       "      <td>111</td>\n",
       "    </tr>\n",
       "    <tr>\n",
       "      <th>4</th>\n",
       "      <td>ABBV</td>\n",
       "      <td>149.02</td>\n",
       "      <td>263027256254</td>\n",
       "      <td>132</td>\n",
       "    </tr>\n",
       "    <tr>\n",
       "      <th>...</th>\n",
       "      <td>...</td>\n",
       "      <td>...</td>\n",
       "      <td>...</td>\n",
       "      <td>...</td>\n",
       "    </tr>\n",
       "    <tr>\n",
       "      <th>500</th>\n",
       "      <td>YUM</td>\n",
       "      <td>126.53</td>\n",
       "      <td>35455133385</td>\n",
       "      <td>156</td>\n",
       "    </tr>\n",
       "    <tr>\n",
       "      <th>501</th>\n",
       "      <td>ZBH</td>\n",
       "      <td>120.65</td>\n",
       "      <td>25211522767</td>\n",
       "      <td>164</td>\n",
       "    </tr>\n",
       "    <tr>\n",
       "      <th>502</th>\n",
       "      <td>ZBRA</td>\n",
       "      <td>256.37</td>\n",
       "      <td>13161616379</td>\n",
       "      <td>77</td>\n",
       "    </tr>\n",
       "    <tr>\n",
       "      <th>503</th>\n",
       "      <td>ZION</td>\n",
       "      <td>34.92</td>\n",
       "      <td>5173228044</td>\n",
       "      <td>567</td>\n",
       "    </tr>\n",
       "    <tr>\n",
       "      <th>504</th>\n",
       "      <td>ZTS</td>\n",
       "      <td>185.78</td>\n",
       "      <td>85517674611</td>\n",
       "      <td>106</td>\n",
       "    </tr>\n",
       "  </tbody>\n",
       "</table>\n",
       "<p>505 rows × 4 columns</p>\n",
       "</div>"
      ],
      "text/plain": [
       "    Ticker Stock Price Market Capitalization Number of Shares to Buy\n",
       "0        A      113.99           33352023249                     173\n",
       "1      AAL       13.98            9134006855                    1416\n",
       "2      AAP       64.61            3842373563                     306\n",
       "3     AAPL      178.18         2785707457760                     111\n",
       "4     ABBV      149.02          263027256254                     132\n",
       "..     ...         ...                   ...                     ...\n",
       "500    YUM      126.53           35455133385                     156\n",
       "501    ZBH      120.65           25211522767                     164\n",
       "502   ZBRA      256.37           13161616379                      77\n",
       "503   ZION       34.92            5173228044                     567\n",
       "504    ZTS      185.78           85517674611                     106\n",
       "\n",
       "[505 rows x 4 columns]"
      ]
     },
     "execution_count": 29,
     "metadata": {},
     "output_type": "execute_result"
    }
   ],
   "source": [
    "final_dataframe"
   ]
  },
  {
   "cell_type": "markdown",
   "id": "e3690672-fac7-4633-8de0-5665f1ca57cd",
   "metadata": {},
   "source": [
    "### Formatting Our Excel Output\n",
    "\n",
    "We will be using the XlsxWriter library for python to create nicely formatted Excel files. \n",
    "\n",
    "XlsxWriter is an excellent package and offers tons of customization. However, the tradeoff for this is that the library can seem very complicated to new users. Hence this section would be faily long!"
   ]
  },
  {
   "cell_type": "markdown",
   "id": "712eb136-21a0-4e0b-92a2-97e27586e95a",
   "metadata": {},
   "source": [
    "#### Initializing our XlsxWriter Object"
   ]
  },
  {
   "cell_type": "code",
   "execution_count": 30,
   "id": "fcb67578-0f08-44c4-a48e-72fdb69bab1d",
   "metadata": {
    "tags": []
   },
   "outputs": [],
   "source": [
    "writer = pd.ExcelWriter('recommended_trades.xlsx', engine = 'xlsxwriter')\n",
    "final_dataframe.to_excel(writer, 'Recommended Trades', index=False)"
   ]
  },
  {
   "cell_type": "markdown",
   "id": "4e3d2278-49fb-484b-8060-1c8b5fb1da5b",
   "metadata": {},
   "source": [
    "#### Creating the Formats We will Need For Our .xlsx File\n",
    "\n",
    "Formats include colors, fonts, and also symbols like % and $. We will need four main formats for our Excel document:\n",
    "\n",
    " - String format for tickers\n",
    " - XX.XX format for stock prices\n",
    " - $XX.XXX format for market capitalization\n",
    " - Integer format for the number of shares to buy"
   ]
  },
  {
   "cell_type": "code",
   "execution_count": 31,
   "id": "10f91dd7-8d37-4a0e-a907-e672b031f938",
   "metadata": {
    "tags": []
   },
   "outputs": [],
   "source": [
    "background_color = '#0a0a23'\n",
    "font_color = '#ffffff'\n",
    "\n",
    "string_format = writer.book.add_format(\n",
    "    {\n",
    "        'font_color': font_color,\n",
    "        'bg_color': background_color,\n",
    "        'border': 1\n",
    "    }\n",
    ")\n",
    "\n",
    "dollar_format = writer.book.add_format(\n",
    "    {\n",
    "        'num_format': '$0.00', \n",
    "        'font_color': font_color,\n",
    "        'bg_color': background_color,\n",
    "        'border': 1\n",
    "    }\n",
    ")\n",
    "\n",
    "integer_format = writer.book.add_format(\n",
    "    {\n",
    "        'num_format': '0',\n",
    "        'font_color': font_color,\n",
    "        'bg_color': background_color,\n",
    "        'border': 1\n",
    "    }\n",
    ")"
   ]
  },
  {
   "cell_type": "code",
   "execution_count": 32,
   "id": "d8645afb-ef85-45ed-88bc-1d9726a2268c",
   "metadata": {
    "tags": []
   },
   "outputs": [
    {
     "data": {
      "text/plain": [
       "\"We can use the **set_column** method applied to the **writer.book** object to apply formats to specific columns of our spreadsheets.\\n\\nHere's an example:\\n\\n        writer.sheets['Recommended Trades'].set_column('B:B', # This tells the method to apply the format to col B,\\n                                                        18, # This tells the method to apply a column width of 18 pixels\\n                                                        string_template # This applies the format 'string_template' to the column\\n                                                    )\\n                                                    \\n\""
      ]
     },
     "execution_count": 32,
     "metadata": {},
     "output_type": "execute_result"
    }
   ],
   "source": [
    "#### Applying the Formats to the Columns of Our .xlsx File\n",
    "\n",
    "\"\"\"We can use the **set_column** method applied to the **writer.book** object to apply formats to specific columns of our spreadsheets.\n",
    "\n",
    "Here's an example:\n",
    "\n",
    "        writer.sheets['Recommended Trades'].set_column('B:B', # This tells the method to apply the format to col B,\n",
    "                                                        18, # This tells the method to apply a column width of 18 pixels\n",
    "                                                        string_template # This applies the format 'string_template' to the column\n",
    "                                                    )\n",
    "                                                    \n",
    "\"\"\"                                                    "
   ]
  },
  {
   "cell_type": "code",
   "execution_count": 33,
   "id": "03bf9b3b-8437-4e79-93d8-b2cfb6182ca4",
   "metadata": {
    "tags": []
   },
   "outputs": [],
   "source": [
    "# writer.sheets['Recommended Trades'].set_column('A:A', 18, string_format)\n",
    "# writer.sheets['Recommended Trades'].set_column('B:B', 18, string_format)\n",
    "# writer.sheets['Recommended Trades'].set_column('C:C', 18, string_format)\n",
    "# writer.sheets['Recommended Trades'].set_column('D:D', 18, string_format)\n",
    "# writer.close()"
   ]
  },
  {
   "cell_type": "code",
   "execution_count": 34,
   "id": "a237bf55-679c-4dce-9503-7753129b1a60",
   "metadata": {
    "tags": []
   },
   "outputs": [],
   "source": [
    "# # Formatting column names\n",
    "# writer.sheets['Recommended Trades'].write('A1','Ticker', string_format)\n",
    "# writer.sheets['Recommended Trades'].write('B1','Stock Price', dollar_format)\n",
    "# writer.sheets['Recommended Trades'].write('C1','Market Capitalization', dollar_format)\n",
    "# writer.sheets['Recommended Trades'].write('D1','Number of Shares to Buy', integer_format)"
   ]
  },
  {
   "cell_type": "markdown",
   "id": "ca15b760-39f5-40b0-8947-b4c22870b82d",
   "metadata": {},
   "source": [
    "The above commented codes works, but they violate the software principle of \"Don't Repeat Yourself\".\n",
    "\n",
    "So let's simplify this by putting it in 2 loops:"
   ]
  },
  {
   "cell_type": "code",
   "execution_count": 35,
   "id": "6e52ca33-dad0-44e9-a605-7a6dfaf223e8",
   "metadata": {
    "tags": []
   },
   "outputs": [],
   "source": [
    "# Formatting column values\n",
    "column_formats = {\n",
    "    'A': ['Ticker', string_format],\n",
    "    'B': ['Stock Price', dollar_format],\n",
    "    'C': ['Market Capitalization', dollar_format],\n",
    "    'D': ['Number of Shares to Buy', integer_format]\n",
    "}\n",
    "\n",
    "for column in column_formats.keys():\n",
    "    writer.sheets['Recommended Trades'].set_column(f'{column}:{column}', 18, column_formats[column][1])\n",
    "    writer.sheets['Recommended Trades'].write(f'{column}1',column_formats[column][0], column_formats[column][1])"
   ]
  },
  {
   "cell_type": "markdown",
   "id": "39bba1df-58a2-4434-9bb0-bf061fb57396",
   "metadata": {},
   "source": [
    "### Saving our Excel Output\n",
    "\n",
    "Saving our excel file is very easy:"
   ]
  },
  {
   "cell_type": "code",
   "execution_count": 36,
   "id": "0fd08242-1ae7-4df2-bedd-5728deb894da",
   "metadata": {
    "tags": []
   },
   "outputs": [],
   "source": [
    "writer.close()"
   ]
  },
  {
   "cell_type": "code",
   "execution_count": null,
   "id": "cfc35135-3b77-4608-be7b-3c7132f6171a",
   "metadata": {},
   "outputs": [],
   "source": []
  }
 ],
 "metadata": {
  "kernelspec": {
   "display_name": "Python 3 (ipykernel)",
   "language": "python",
   "name": "python3"
  },
  "language_info": {
   "codemirror_mode": {
    "name": "ipython",
    "version": 3
   },
   "file_extension": ".py",
   "mimetype": "text/x-python",
   "name": "python",
   "nbconvert_exporter": "python",
   "pygments_lexer": "ipython3",
   "version": "3.11.4"
  }
 },
 "nbformat": 4,
 "nbformat_minor": 5
}
